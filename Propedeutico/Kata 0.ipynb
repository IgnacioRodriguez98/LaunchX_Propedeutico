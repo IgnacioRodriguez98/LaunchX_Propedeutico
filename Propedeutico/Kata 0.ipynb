{
 "cells": [
  {
   "cell_type": "markdown",
   "metadata": {},
   "source": [
    "# Manual de la Nave"
   ]
  },
  {
   "cell_type": "code",
   "execution_count": null,
   "metadata": {},
   "outputs": [],
   "source": [
    "print(\"hola\")"
   ]
  },
  {
   "cell_type": "code",
   "execution_count": null,
   "metadata": {},
   "outputs": [],
   "source": [
    "pip install ipywidgets"
   ]
  },
  {
   "cell_type": "code",
   "execution_count": null,
   "metadata": {},
   "outputs": [],
   "source": [
    "import ipywidgets as widgets\r\n",
    "\r\n",
    "ignition = widgets.ToggleButton(\r\n",
    "    value=False,\r\n",
    "    description='Iniciar Launch',\r\n",
    "    button_style='success',\r\n",
    "    tooltip='Engage your Launch',\r\n",
    "    icon='rocket'\r\n",
    ")\r\n",
    "\r\n",
    "output = widgets.Output()\r\n",
    "\r\n",
    "display(ignition, output)\r\n",
    "\r\n",
    "def on_value_change(change):\r\n",
    "    with output:\r\n",
    "        if change['new'] == True:\r\n",
    "            print(\"Nave Iniciada!\")\r\n",
    "        else:   \r\n",
    "            print(\"Nave Detenida\")\r\n",
    "\r\n",
    "ignition.observe(on_value_change, names='value')"
   ]
  },
  {
   "cell_type": "code",
   "execution_count": null,
   "metadata": {},
   "outputs": [],
   "source": []
  }
 ],
 "metadata": {
  "kernelspec": {
   "display_name": "Python 3.9.10 64-bit",
   "name": "python3910jvsc74a57bd003d1a7656ab8b18a01a8cdd533166c07548d93052b6fca09f181df8ba22f8c6f"
  },
  "language_info": {
   "codemirror_mode": {
    "name": "ipython",
    "version": 3
   },
   "file_extension": ".py",
   "mimetype": "text/x-python",
   "name": "python",
   "nbconvert_exporter": "python",
   "pygments_lexer": "ipython3",
   "version": "3.9.10"
  },
  "metadata": {
   "interpreter": {
    "hash": "03d1a7656ab8b18a01a8cdd533166c07548d93052b6fca09f181df8ba22f8c6f"
   }
  },
  "orig_nbformat": 2
 },
 "nbformat": 4,
 "nbformat_minor": 2
}