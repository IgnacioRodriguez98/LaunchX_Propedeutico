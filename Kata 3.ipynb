{
 "cells": [
  {
   "cell_type": "markdown",
   "metadata": {},
   "source": [
    "# Ejercicio - Escribir declaraciones if, else, y elif\n",
    "\n",
    "Las instrucciones If te permiten ejecutar condicionalmente código Python. Se usan comúnmente en Python para \"tomar decisiones\" sobre lo que debería suceder a continuación mientras se ejecuta un programa.\n",
    "\n",
    "Para crear una instrucción if en Python, define una expresión de prueba que pueda tener un valor True o False, seguido de un bloque de código con sangría que se ejecutará si se cumple la condición.\n",
    "\n",
    "if expresion_prueba:\n",
    "    # intrucción(es) a ejecutar\n",
    "Para escribir un programa con una lógica condicional más compleja, puedes agregar instrucciones else y elif al bloque de código. También puedes anidar instrucciones condicionales."
   ]
  },
  {
   "cell_type": "markdown",
   "metadata": {},
   "source": [
    "## Ejercicio 1\n",
    "Para este ejercicio, escribirás una lógica condicional que imprima una advertencia si un asteroide se acerca a la Tierra demasiado rápido. La velocidad del asteroide varía dependiendo de lo cerca que esté del sol, y cualquier velocidad superior a 25 kilómetros por segundo (km/s) merece una advertencia.\n",
    "\n",
    "Un asteroide se acerca, y viaja a una velocidad de 49 km/s."
   ]
  },
  {
   "cell_type": "code",
   "execution_count": 2,
   "metadata": {},
   "outputs": [
    {
     "name": "stdout",
     "output_type": "stream",
     "text": [
      "No pasa nada\n"
     ]
    }
   ],
   "source": [
    "ast = input(\"¿A cuantos Km/h va el asteroide?\")\n",
    "if int(ast) >= 49:\n",
    "    print(\"¡¡¡El cielo se cae!!!\")\n",
    "else:\n",
    "    print(\"No pasa nada\")"
   ]
  },
  {
   "cell_type": "markdown",
   "metadata": {},
   "source": [
    "Si un asteroide entra en la atmósfera de la Tierra a una velocidad mayor o igual a 20 km/s, a veces produce un rayo de luz que se puede ver desde la Tierra. Escribe la lógica condicional que usa declaraciones if, else, y elif para alertar a las personas de todo el mundo que deben buscar un asteroide en el cielo. ¡Hay uno que se dirige a la tierra ahora a una velocidad de 19 km/s!"
   ]
  },
  {
   "cell_type": "code",
   "execution_count": 7,
   "metadata": {},
   "outputs": [
    {
     "name": "stdout",
     "output_type": "stream",
     "text": [
      "El asteroide no entro a la atmosfera\n"
     ]
    }
   ],
   "source": [
    "ast = input(\"¿A cuantos Km/h va el asteroide?\")\n",
    "entry= input(\"¿Entro a la atmosfera?(Y)\")\n",
    "if entry == \"Y\":\n",
    "    aste= True\n",
    "else: \n",
    "    aste= False\n",
    "if int(ast) >= 20:\n",
    "    if aste == True:\n",
    "        print(\"Busca un asteroide en el cielo\") \n",
    "    else:\n",
    "        print(\"El asteroide no entro a la atmosfera\")\n",
    "else:\n",
    "    if aste == True:\n",
    "        print(\"El asteroide se desintegrará en la atmosfera\")\n",
    "    else:\n",
    "        print(\"No hay actividad de asteroides\")"
   ]
  },
  {
   "cell_type": "markdown",
   "metadata": {},
   "source": [
    "# Ejercicio: Uso de operadores and y or\n"
   ]
  },
  {
   "cell_type": "code",
   "execution_count": 8,
   "metadata": {},
   "outputs": [
    {
     "name": "stdout",
     "output_type": "stream",
     "text": [
      "¡Se acerca un asteroide peligroso!\n"
     ]
    }
   ],
   "source": [
    "vel = int(input(\"¿A qué velocidad va el asteroide?\"))\n",
    "tam = int(input(\"¿De qué tamaño es el asteroide?\"))\n",
    "if vel > 25 & tam > 25:\n",
    "    print('¡Se acerca un asteroide peligroso!')\n",
    "elif vel >= 20:\n",
    "        if tam >=25:\n",
    "            print('¡Se acerca un asteroide peligroso!')\n",
    "        else:\n",
    "            print('Busca un asteroide en el cielo')\n",
    "elif tam < 25:\n",
    "    if vel >= 20:\n",
    "        print('Busca un asteroide en el cielo')\n",
    "    else:\n",
    "        print('No hay actividad visible de asteroide')\n",
    "else:\n",
    "    print('No hay actividad visible de asteroide')"
   ]
  }
 ],
 "metadata": {
  "interpreter": {
   "hash": "aa38682298010fead0fef4cbed221ff09526dc24f2011f7967b4628e2d13f93d"
  },
  "kernelspec": {
   "display_name": "Python 3.9.10 64-bit (windows store)",
   "language": "python",
   "name": "python3"
  },
  "language_info": {
   "codemirror_mode": {
    "name": "ipython",
    "version": 3
   },
   "file_extension": ".py",
   "mimetype": "text/x-python",
   "name": "python",
   "nbconvert_exporter": "python",
   "pygments_lexer": "ipython3",
   "version": "3.9.10"
  },
  "orig_nbformat": 4
 },
 "nbformat": 4,
 "nbformat_minor": 2
}
